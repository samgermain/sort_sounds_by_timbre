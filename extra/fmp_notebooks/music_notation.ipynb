{
 "cells": [
  {
   "cell_type": "markdown",
   "metadata": {},
   "source": [
    "<div>\n",
    "<a href=\"http://www.music-processing.de/\"><img style=\"float:left;\" src=\"../data/FMP_Teaser_Cover.png\" width=40% alt=\"FMP\"></a>\n",
    "<a href=\"https://www.audiolabs-erlangen.de\"><img src=\"../data/Logo_AudioLabs_Long.png\" width=59% style=\"float: right;\" alt=\"AudioLabs\"></a>\n",
    "</div>"
   ]
  },
  {
   "cell_type": "markdown",
   "metadata": {},
   "source": [
    "<div>\n",
    "<a href=\"../C1/C1.html\"><img src=\"../data/C1_nav.png\" width=\"100\"  style=\"float:right;\" alt=\"C1\"></a>\n",
    "<h1> Sheet Music Representations</h1>        \n",
    "</div>\n",
    "\n",
    "<br />\n",
    "\n",
    "<p>\n",
    "Following Section 1.1 of <a href=\"http://www.music-processing.de/\">[MÃ¼ller, FMP, Springer 2015]</a>, we look in this notebook at sheet music representations by giving some representative examles.\n",
    "</p> "
   ]
  },
  {
   "cell_type": "markdown",
   "metadata": {},
   "source": [
    "**Sheet music**, also referred to as **musical score**, provides a visual representation of what we commonly refer to&mdash;in particular for Western classical music&mdash;as the piece of music. Sheet music describes a musical work using a formal language based on musical symbols and letters, which are depicted in a graphical&ndash;textual form. Reading sheet music, a musician can create a performance by following the given instructions. Performing a piece from sheet music, however, not only requires a special form of literacy (i.e., the ability to understand the music notation), but also involves \n",
    "a creative process. A musical score is rarely played mechanically. Musicians may shape the flow of the music by varying the tempo, dynamics, and articulation, thus resulting in a personal interpretation of the given musical score. In this sense, rather than giving rigid specifications, sheet music can be considered as a guide for performing a piece of music leaving room for different interpretations."
   ]
  },
  {
   "cell_type": "markdown",
   "metadata": {},
   "source": [
    "## Example: Beethoven's Fifth\n",
    "\n",
    "As a first example, let us consider Symphony No. 5 in C minor by Ludwig van Beethoven, which is one of the most popular and best-known compositions in classical music. It begins with a short musical idea, the famous \"short-short-short-long\" motif which is commonly referred to as  the \"fate motif\" of Beethoven's Fifth. The following figure shows a sheet music representation of the first five measures in a piano reduced version.\n",
    "\n",
    "<img src=\"../data/C1/FMP_C1_F01.png\" width=\"400px\" align=\"middle\" alt=\"C1\">\n",
    "\n",
    "The following two recordings illustrate the difference between a synthesized and a real performance of the fate motive. The first recording is piano version synthesized from the score as notated above, whereas the second recording is an orchestral version of a real performances based on the original full score representation:\n",
    "\n",
    "<audio src=\"../data/C1/FMP_C1_F01_Beethoven_FateMotive_MIDI-Piano.mp3\" type=\"audio/mpeg\" controls=\"controls\"></audio>\n",
    "<audio src=\"../data/C1/FMP_C1_F01_Beethoven_FateMotive_Orchestra.mp3\" type=\"audio/mpeg\" controls=\"controls\"></audio>"
   ]
  },
  {
   "cell_type": "markdown",
   "metadata": {},
   "source": [
    "## Full Score\n",
    "\n",
    "The following figure shows a full orchestral score of the beginning of Beethoven's Fifth as used by conductors to direct rehearsals and performances. The shown excerpt is the scanned version of an edition published by Breitkopf & HÃ¤rtel in the year 1862. The various staves of the system specify the music according to the different instruments lined up in a fixed order. From top to bottom, the voices for the woodwinds (flute, oboe, clarinet, bassoon), the brass (French horn, trumpet) and percussion (timpani), and the strings (violin, viola, cello, double bass) are listed. For certain instruments such as the violin, there may be more than one musical voice to be played, each specified by a separate staff (e.g., violin I and violin II). The first recording is an orchestral version synthesized from the score, whereas the second recording is an interpretation by the Vienna Philharmonic orchestra conducted by Herbert von Karajan, 1946.\n",
    "\n",
    "<img src=\"../data/C1/FMP_C1_F10.png\" width=\"600px\" align=\"middle\" alt=\"C1\">\n",
    "\n",
    "<br clear=\"all\" />\n",
    "\n",
    "<audio src=\"../data/C1/FMP_C1_F10_Beethoven_Fifth-MM1-20_Sibelius-Orchestra-Fast.mp3\" type=\"audio/mpeg\" controls=\"controls\"></audio>\n",
    "<audio src=\"../data/C1/FMP_C1_F10_Beethoven_Fifth-MM1-20_Karajan1946.mp3\" type=\"audio/mpeg\" controls=\"controls\"></audio>\n",
    "\n",
    "The process of generating or rendering visually pleasing sheet music representations from score representations is an art in itself. In former days, the art of drawing high-quality music notation for mechanical reproduction was called \n",
    "**music engraving**. Nowadays, computer software or **scorewriters** have been designed for the purpose of writing, editing, and printing music, though only a few produce results comparable to high-quality traditional engraving. The next figure shows a computer-generated sheet music representation. \n",
    "\n",
    "<img src=\"../data/C1/FMP_C1_F10_Beethoven_Fifth-MM1-20_Sibelius-Orchestra.png\" width=\"900px\" align=\"middle\" alt=\"C1\">"
   ]
  },
  {
   "cell_type": "markdown",
   "metadata": {},
   "source": [
    "## Music Notation\n",
    "\n",
    "Generally speaking, **music notation** refers to a system for graphically representing music through symbols. The following figures illustrate some elements that are used in Western music notation. \n",
    "\n",
    "The standard Western music notation is based on a **staff** , which is a set of five horizontal lines and four spaces each representing a different musical pitch. A staff generally begins with a **clef** symbol, which indicates the position of one particular note on the staff and serves as a reference in relation to which the meaning of the notes positioned on any line or space of the staff can be determined. There are variou clef symbols and clef positions. As an example, the following figure shows the G-clef (indicating that the second line is the pitch G4) and the F-clef (indicating that the fourth line is the pitch F3). \n",
    "\n",
    "<img src=\"../data/C1/FMP_C1_F04.png\" width=\"600px\" align=\"middle\" alt=\"C1\">\n",
    "\n",
    "Following the clef, the **key signature** indicates the key of the piece by specifying that certain notes are flat or sharp throughout the piece, unless otherwise specified. For example, the notes shown on the left of the following figure form a C-major scale. Using the key signature consisting of three flats the notes E4, A4, and B4 are lowered to become E$^\\flat$4, A$^\\flat$4, and B$^\\flat$4. The resulting scale is a (natural) C-minor scale.\n",
    "\n",
    "<img src=\"../data/C1/FMP_C1_F05.png\" width=\"600px\" align=\"middle\" alt=\"C1\">\n",
    "\n",
    "Music is typically organized into temporal units, referred to as **beat**. Repeating sequences of stressed and unstressed beats, in turn, form higher temporal patterns, which are related to what is called the **rhythm** of music and is expressed in terms of the musical **meter**. A **measure** or **bar** is a segment of time defined by a given number of beats. Dividing music into measures not only reflects it rhythmic nature, but also provides regular reference points within it. The following figure provides two examples on how to notate a time signature. Left: Four quarter notes per measure with upbeat. Right: Six eighth notes per measure.\n",
    "\n",
    "<img src=\"../data/C1/FMP_C1_F06.png\" width=\"600px\" align=\"middle\" alt=\"C1\">\n",
    "\n",
    "Each note is represented by a symbol that consists of a **note head** and possibly a **stem** and a **flag**. Sometimes several notes are combined by a **beam**. A note's pitch is indicated by its placement on the staff and possibly by an accidental, where the clef symbol serves as a reference pitch. The duration of a note is defined in a relative fashion by means of its **note value**, which is indicated by the color or shape of the note head, the presence or absence of a stem, and the presence or absence of flags. The **whole note** is the reference value, and the other notes \n",
    "are named in accordance. For example, a **half note** has half the length of a whole note, a **quarter note** has a quarter the length of a whole note, and so on. For each note value, there also exists a **rest symbol** of equivalent duration, which expresses an interval of silence in a piece of music.\n",
    "\n",
    "<img src=\"../data/C1/FMP_C1_F07.png\" width=\"600px\" align=\"middle\" alt=\"C1\">\n",
    "\n",
    "To notate music that is played on a piano or is played by different musicians on various instruments, one often uses several staves to notate the various musical voices. A single vertical line drawn to the left of multiple staves creates a **staff system**, which indicates that the music on all the staves is to be played simultaneously. A bracket is an additional vertically aligned symbol joining staves. This symbol shows groupings of instruments that function as a unit, such as the string section of an orchestra. The following figure shows a staff system (grand staff) as used for piano and a staff system as used for strings.\n",
    "\n",
    "<img src=\"../data/C1/FMP_C1_F08.png\" width=\"500px\" align=\"middle\" alt=\"C1\">\n",
    "\n",
    "Music notation may contain many more instructions to the musician regarding matters such as tempo, dynamics, and expression. The following figure gives some examples including **articulation** marks that are used to indicate how certain notes are to be played. \n",
    "\n",
    "<img src=\"../data/C1/FMP_C1_F09.png\" width=\"700px\" align=\"middle\" alt=\"C1\">"
   ]
  },
  {
   "cell_type": "markdown",
   "metadata": {},
   "source": [
    "<div class=\"alert\" style=\"background-color:#F5F5F5; border-color:#C8C8C8\">\n",
    "<strong>Acknowledgment:</strong> This notebook was created by <a href=\"https://www.audiolabs-erlangen.de/fau/professor/mueller\">Meinard MÃ¼ller</a> and <a href=\"https://www.audiolabs-erlangen.de/fau/assistant/arifi-mueller\">Vlora Arifi-MÃ¼ller</a>.\n",
    "</div>"
   ]
  },
  {
   "cell_type": "markdown",
   "metadata": {},
   "source": [
    "<table style=\"border:none\">\n",
    "<tr style=\"border:none\">\n",
    "    <td style=\"min-width:50px; border:none\" bgcolor=\"white\"><a href=\"../C0/C0.html\"><img src=\"../data/C0_nav.png\" style=\"height:50px\" alt=\"C0\"></a></td>\n",
    "    <td style=\"min-width:50px; border:none\" bgcolor=\"white\"><a href=\"../C1/C1.html\"><img src=\"../data/C1_nav.png\" style=\"height:50px\" alt=\"C1\"></a></td>\n",
    "    <td style=\"min-width:50px; border:none\" bgcolor=\"white\"><a href=\"../C2/C2.html\"><img src=\"../data/C2_nav.png\" style=\"height:50px\" alt=\"C2\"></a></td>\n",
    "    <td style=\"min-width:50px; border:none\" bgcolor=\"white\"><a href=\"../C3/C3.html\"><img src=\"../data/C3_nav.png\" style=\"height:50px\" alt=\"C3\"></a></td>\n",
    "    <td style=\"min-width:50px; border:none\" bgcolor=\"white\"><a href=\"../C4/C4.html\"><img src=\"../data/C4_nav.png\" style=\"height:50px\" alt=\"C4\"></a></td>\n",
    "    <td style=\"min-width:50px; border:none\" bgcolor=\"white\"><a href=\"../C5/C5.html\"><img src=\"../data/C5_nav.png\" style=\"height:50px\" alt=\"C5\"></a></td>\n",
    "    <td style=\"min-width:50px; border:none\" bgcolor=\"white\"><a href=\"../C6/C6.html\"><img src=\"../data/C6_nav.png\" style=\"height:50px\" alt=\"C6\"></a></td>\n",
    "    <td style=\"min-width:50px; border:none\" bgcolor=\"white\"><a href=\"../C7/C7.html\"><img src=\"../data/C7_nav.png\" style=\"height:50px\" alt=\"C7\"></a></td>\n",
    "    <td style=\"min-width:50px; border:none\" bgcolor=\"white\"><a href=\"../C8/C8.html\"><img src=\"../data/C8_nav.png\" style=\"height:50px\" alt=\"C8\"></a></td>\n",
    "</tr>\n",
    "</table>"
   ]
  }
 ],
 "metadata": {
  "kernelspec": {
   "display_name": "Python 3",
   "language": "python",
   "name": "python3"
  },
  "language_info": {
   "codemirror_mode": {
    "name": "ipython",
    "version": 3
   },
   "file_extension": ".py",
   "mimetype": "text/x-python",
   "name": "python",
   "nbconvert_exporter": "python",
   "pygments_lexer": "ipython3",
   "version": "3.7.7"
  }
 },
 "nbformat": 4,
 "nbformat_minor": 1
}
